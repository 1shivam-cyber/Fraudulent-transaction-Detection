{
 "cells": [
  {
   "cell_type": "markdown",
   "id": "marine-microphone",
   "metadata": {},
   "source": [
    "# Credit Card Fraud Detection"
   ]
  },
  {
   "cell_type": "markdown",
   "id": "clean-chester",
   "metadata": {},
   "source": [
    "Credit card fraud is increasing considerably with the development of modern technology and the global superhighways of communication. Credit card fraud costs consumers and the financial companies billions of dollars annually, and fraudsters continuously try to find new rules and tactics to commit illegal actions.Credit Card is considered as a \"nice target of fraud\" since in a very short time attackers can get lots of money without much risk and most of the time the fraud is discovered after few days. To commit the credit card fraud either offline or online,fraudsters are looking for sensitive information such as credit card number, bank account and social security number. In case of offliine payment(which using credit card physically)to perform the fraudulent transactions, an attacker has to steal the credit card itself, while in the case of online payment(which occur over the internet or phone), the fraudsters should steal customer's identity. Thus, fraud detection becomes essential for banks and financial institution, to minimize their losses. The performance evaluation is performed on real life credit card transactions dataset to demonstrate the benefit of the bagging ensemble algorithm. \n",
    "Fraud Detection Methods are Logistic regression, Naïve bayes and other ensemble techniques such as Random Forest, Isolation-forest. Amongst all existing techniques ensemble learning methods are identified as popular and common method, not because of its quite straightforward implementation, but also due to its exceptional predictive performance on practical problems. After several trials and comparisons we introduced the bagging classifier based on decision tree, as the best classifier to construct the fraud detection model.  \n"
   ]
  },
  {
   "cell_type": "markdown",
   "id": "awful-crown",
   "metadata": {},
   "source": [
    "##### Challenges in credit card fraud detection"
   ]
  },
  {
   "cell_type": "markdown",
   "id": "august-object",
   "metadata": {},
   "source": [
    "Credit card fraud detectioin is one of the most explored domains of fraud detection and relies on the automatic analysis of recorded transactions to detect fraudulent behaviour. Further more the problem of credit card fraud detection has many constraints. here we discussed various challenges in credit card fraud detection.\n",
    "\n",
    "1. Non-availability of real data-set : \n",
    "One of the biggest issues accociated with credit card fraud detectioin is the availability of dataset that researchers can perform the research.The main reason of unavailability of real world data is, banks and financial instituition are not ready to reveal their sensitive customer transaction data ddue to privacy reasons.\n",
    "\n",
    "2. Unbalanced Data set : \n",
    "Credit card fraud datasets are highly skewed data(where many more of data is legitimate, and a few of them is fraudulent), and the legal and fraud transactions vary at least hundred times.Generally, in real case 98% of the transactions are legal while only 2% of them are fraud.\n",
    "\n",
    "3. Size of the Data-set :\n",
    "Millions of transactions are processed every day. Analyzing such enourmous amounts of transactions requires highly competent techniques that scale well, as well as requiring considerable computing power.It creates certain restrictions for the researchers.\n",
    "\n",
    "4. Determining the appropriate evaluation parameters : \n",
    "There is very common measure for the fraud detection techniques which is false-positve rates. Accuracy is not a suitable metrices for credit card fraud detection technique since; the dataset is highly imbalanced.So it is important to study precision,sensibilty for each case and false rates for each datasets.\n",
    "\n",
    "\n",
    "\n",
    "   "
   ]
  },
  {
   "cell_type": "code",
   "execution_count": 1,
   "id": "demonstrated-visibility",
   "metadata": {},
   "outputs": [],
   "source": [
    "#Importing all the important Libraries.\n",
    "\n",
    "import pandas as pd \n",
    "import numpy as np\n",
    "import seaborn as sns\n",
    "import matplotlib.pyplot as plt\n",
    "from sklearn import preprocessing \n",
    "from sklearn.naive_bayes import GaussianNB\n",
    "from sklearn.ensemble import RandomForestClassifier\n",
    "from sklearn.model_selection import train_test_split\n",
    "from sklearn.linear_model import LogisticRegression\n",
    "from sklearn.metrics import accuracy_score,confusion_matrix,precision_score\n",
    "\n",
    "%matplotlib inline"
   ]
  },
  {
   "cell_type": "code",
   "execution_count": 2,
   "id": "dense-postcard",
   "metadata": {},
   "outputs": [],
   "source": [
    "#Importing the dataset and creating the Dataframe called \"df\".\n",
    "df = pd.read_csv('fraudTrain.csv',parse_dates=['trans_date_trans_time'])"
   ]
  },
  {
   "cell_type": "markdown",
   "id": "unlike-exhaust",
   "metadata": {},
   "source": [
    "##### Data-set Analysis"
   ]
  },
  {
   "cell_type": "code",
   "execution_count": 3,
   "id": "technological-silence",
   "metadata": {},
   "outputs": [
    {
     "data": {
      "text/plain": [
       "(1296675, 23)"
      ]
     },
     "execution_count": 3,
     "metadata": {},
     "output_type": "execute_result"
    }
   ],
   "source": [
    "df.shape"
   ]
  },
  {
   "cell_type": "code",
   "execution_count": 4,
   "id": "appointed-couple",
   "metadata": {},
   "outputs": [
    {
     "data": {
      "text/html": [
       "<div>\n",
       "<style scoped>\n",
       "    .dataframe tbody tr th:only-of-type {\n",
       "        vertical-align: middle;\n",
       "    }\n",
       "\n",
       "    .dataframe tbody tr th {\n",
       "        vertical-align: top;\n",
       "    }\n",
       "\n",
       "    .dataframe thead th {\n",
       "        text-align: right;\n",
       "    }\n",
       "</style>\n",
       "<table border=\"1\" class=\"dataframe\">\n",
       "  <thead>\n",
       "    <tr style=\"text-align: right;\">\n",
       "      <th></th>\n",
       "      <th>Unnamed: 0</th>\n",
       "      <th>trans_date_trans_time</th>\n",
       "      <th>cc_num</th>\n",
       "      <th>merchant</th>\n",
       "      <th>category</th>\n",
       "      <th>amt</th>\n",
       "      <th>first</th>\n",
       "      <th>last</th>\n",
       "      <th>gender</th>\n",
       "      <th>street</th>\n",
       "      <th>...</th>\n",
       "      <th>lat</th>\n",
       "      <th>long</th>\n",
       "      <th>city_pop</th>\n",
       "      <th>job</th>\n",
       "      <th>dob</th>\n",
       "      <th>trans_num</th>\n",
       "      <th>unix_time</th>\n",
       "      <th>merch_lat</th>\n",
       "      <th>merch_long</th>\n",
       "      <th>is_fraud</th>\n",
       "    </tr>\n",
       "  </thead>\n",
       "  <tbody>\n",
       "    <tr>\n",
       "      <th>0</th>\n",
       "      <td>0</td>\n",
       "      <td>2019-01-01 00:00:18</td>\n",
       "      <td>2703186189652095</td>\n",
       "      <td>fraud_Rippin, Kub and Mann</td>\n",
       "      <td>misc_net</td>\n",
       "      <td>4.97</td>\n",
       "      <td>Jennifer</td>\n",
       "      <td>Banks</td>\n",
       "      <td>F</td>\n",
       "      <td>561 Perry Cove</td>\n",
       "      <td>...</td>\n",
       "      <td>36.0788</td>\n",
       "      <td>-81.1781</td>\n",
       "      <td>3495</td>\n",
       "      <td>Psychologist, counselling</td>\n",
       "      <td>1988-03-09</td>\n",
       "      <td>0b242abb623afc578575680df30655b9</td>\n",
       "      <td>1325376018</td>\n",
       "      <td>36.011293</td>\n",
       "      <td>-82.048315</td>\n",
       "      <td>0</td>\n",
       "    </tr>\n",
       "    <tr>\n",
       "      <th>1</th>\n",
       "      <td>1</td>\n",
       "      <td>2019-01-01 00:00:44</td>\n",
       "      <td>630423337322</td>\n",
       "      <td>fraud_Heller, Gutmann and Zieme</td>\n",
       "      <td>grocery_pos</td>\n",
       "      <td>107.23</td>\n",
       "      <td>Stephanie</td>\n",
       "      <td>Gill</td>\n",
       "      <td>F</td>\n",
       "      <td>43039 Riley Greens Suite 393</td>\n",
       "      <td>...</td>\n",
       "      <td>48.8878</td>\n",
       "      <td>-118.2105</td>\n",
       "      <td>149</td>\n",
       "      <td>Special educational needs teacher</td>\n",
       "      <td>1978-06-21</td>\n",
       "      <td>1f76529f8574734946361c461b024d99</td>\n",
       "      <td>1325376044</td>\n",
       "      <td>49.159047</td>\n",
       "      <td>-118.186462</td>\n",
       "      <td>0</td>\n",
       "    </tr>\n",
       "    <tr>\n",
       "      <th>2</th>\n",
       "      <td>2</td>\n",
       "      <td>2019-01-01 00:00:51</td>\n",
       "      <td>38859492057661</td>\n",
       "      <td>fraud_Lind-Buckridge</td>\n",
       "      <td>entertainment</td>\n",
       "      <td>220.11</td>\n",
       "      <td>Edward</td>\n",
       "      <td>Sanchez</td>\n",
       "      <td>M</td>\n",
       "      <td>594 White Dale Suite 530</td>\n",
       "      <td>...</td>\n",
       "      <td>42.1808</td>\n",
       "      <td>-112.2620</td>\n",
       "      <td>4154</td>\n",
       "      <td>Nature conservation officer</td>\n",
       "      <td>1962-01-19</td>\n",
       "      <td>a1a22d70485983eac12b5b88dad1cf95</td>\n",
       "      <td>1325376051</td>\n",
       "      <td>43.150704</td>\n",
       "      <td>-112.154481</td>\n",
       "      <td>0</td>\n",
       "    </tr>\n",
       "  </tbody>\n",
       "</table>\n",
       "<p>3 rows × 23 columns</p>\n",
       "</div>"
      ],
      "text/plain": [
       "   Unnamed: 0 trans_date_trans_time            cc_num  \\\n",
       "0           0   2019-01-01 00:00:18  2703186189652095   \n",
       "1           1   2019-01-01 00:00:44      630423337322   \n",
       "2           2   2019-01-01 00:00:51    38859492057661   \n",
       "\n",
       "                          merchant       category     amt      first     last  \\\n",
       "0       fraud_Rippin, Kub and Mann       misc_net    4.97   Jennifer    Banks   \n",
       "1  fraud_Heller, Gutmann and Zieme    grocery_pos  107.23  Stephanie     Gill   \n",
       "2             fraud_Lind-Buckridge  entertainment  220.11     Edward  Sanchez   \n",
       "\n",
       "  gender                        street  ...      lat      long  city_pop  \\\n",
       "0      F                561 Perry Cove  ...  36.0788  -81.1781      3495   \n",
       "1      F  43039 Riley Greens Suite 393  ...  48.8878 -118.2105       149   \n",
       "2      M      594 White Dale Suite 530  ...  42.1808 -112.2620      4154   \n",
       "\n",
       "                                 job         dob  \\\n",
       "0          Psychologist, counselling  1988-03-09   \n",
       "1  Special educational needs teacher  1978-06-21   \n",
       "2        Nature conservation officer  1962-01-19   \n",
       "\n",
       "                          trans_num   unix_time  merch_lat  merch_long  \\\n",
       "0  0b242abb623afc578575680df30655b9  1325376018  36.011293  -82.048315   \n",
       "1  1f76529f8574734946361c461b024d99  1325376044  49.159047 -118.186462   \n",
       "2  a1a22d70485983eac12b5b88dad1cf95  1325376051  43.150704 -112.154481   \n",
       "\n",
       "   is_fraud  \n",
       "0         0  \n",
       "1         0  \n",
       "2         0  \n",
       "\n",
       "[3 rows x 23 columns]"
      ]
     },
     "execution_count": 4,
     "metadata": {},
     "output_type": "execute_result"
    }
   ],
   "source": [
    "df.head(3)"
   ]
  },
  {
   "cell_type": "code",
   "execution_count": 5,
   "id": "excellent-province",
   "metadata": {},
   "outputs": [
    {
     "data": {
      "text/plain": [
       "<AxesSubplot:xlabel='gender', ylabel='count'>"
      ]
     },
     "execution_count": 5,
     "metadata": {},
     "output_type": "execute_result"
    },
    {
     "data": {
      "image/png": "[encoded data removed]",
      "text/plain": [
       "<Figure size 432x288 with 1 Axes>"
      ]
     },
     "metadata": {
      "needs_background": "light"
     },
     "output_type": "display_data"
    }
   ],
   "source": [
    "sns.countplot(x=df['gender'] ,data=df)"
   ]
  },
  {
   "cell_type": "code",
   "execution_count": 6,
   "id": "literary-transition",
   "metadata": {},
   "outputs": [
    {
     "data": {
      "text/plain": [
       "<AxesSubplot:xlabel='is_fraud', ylabel='count'>"
      ]
     },
     "execution_count": 6,
     "metadata": {},
     "output_type": "execute_result"
    },
    {
     "data": {
      "image/png": "[encoded data removed]",
      "text/plain": [
       "<Figure size 432x288 with 1 Axes>"
      ]
     },
     "metadata": {
      "needs_background": "light"
     },
     "output_type": "display_data"
    }
   ],
   "source": [
    "sns.countplot(x=df['is_fraud'] ,data=df)"
   ]
  },
  {
   "cell_type": "code",
   "execution_count": 7,
   "id": "directed-canal",
   "metadata": {},
   "outputs": [
    {
     "data": {
      "text/plain": [
       "(7506, 23)"
      ]
     },
     "execution_count": 7,
     "metadata": {},
     "output_type": "execute_result"
    }
   ],
   "source": [
    "df[df['is_fraud'] ==1].shape"
   ]
  },
  {
   "cell_type": "code",
   "execution_count": 8,
   "id": "frank-summer",
   "metadata": {},
   "outputs": [
    {
     "data": {
      "text/plain": [
       "(1289169, 23)"
      ]
     },
     "execution_count": 8,
     "metadata": {},
     "output_type": "execute_result"
    }
   ],
   "source": [
    "df[df['is_fraud'] == 0].shape"
   ]
  },
  {
   "cell_type": "code",
   "execution_count": 9,
   "id": "responsible-merchandise",
   "metadata": {
    "scrolled": true
   },
   "outputs": [
    {
     "data": {
      "text/html": [
       "<div>\n",
       "<style scoped>\n",
       "    .dataframe tbody tr th:only-of-type {\n",
       "        vertical-align: middle;\n",
       "    }\n",
       "\n",
       "    .dataframe tbody tr th {\n",
       "        vertical-align: top;\n",
       "    }\n",
       "\n",
       "    .dataframe thead th {\n",
       "        text-align: right;\n",
       "    }\n",
       "</style>\n",
       "<table border=\"1\" class=\"dataframe\">\n",
       "  <thead>\n",
       "    <tr style=\"text-align: right;\">\n",
       "      <th></th>\n",
       "      <th>Unnamed: 0</th>\n",
       "      <th>cc_num</th>\n",
       "      <th>amt</th>\n",
       "      <th>zip</th>\n",
       "      <th>lat</th>\n",
       "      <th>long</th>\n",
       "      <th>city_pop</th>\n",
       "      <th>unix_time</th>\n",
       "      <th>merch_lat</th>\n",
       "      <th>merch_long</th>\n",
       "      <th>is_fraud</th>\n",
       "    </tr>\n",
       "  </thead>\n",
       "  <tbody>\n",
       "    <tr>\n",
       "      <th>count</th>\n",
       "      <td>1.296675e+06</td>\n",
       "      <td>1.296675e+06</td>\n",
       "      <td>1.296675e+06</td>\n",
       "      <td>1.296675e+06</td>\n",
       "      <td>1.296675e+06</td>\n",
       "      <td>1.296675e+06</td>\n",
       "      <td>1.296675e+06</td>\n",
       "      <td>1.296675e+06</td>\n",
       "      <td>1.296675e+06</td>\n",
       "      <td>1.296675e+06</td>\n",
       "      <td>1.296675e+06</td>\n",
       "    </tr>\n",
       "    <tr>\n",
       "      <th>mean</th>\n",
       "      <td>6.483370e+05</td>\n",
       "      <td>4.171920e+17</td>\n",
       "      <td>7.035104e+01</td>\n",
       "      <td>4.880067e+04</td>\n",
       "      <td>3.853762e+01</td>\n",
       "      <td>-9.022634e+01</td>\n",
       "      <td>8.882444e+04</td>\n",
       "      <td>1.349244e+09</td>\n",
       "      <td>3.853734e+01</td>\n",
       "      <td>-9.022646e+01</td>\n",
       "      <td>5.788652e-03</td>\n",
       "    </tr>\n",
       "    <tr>\n",
       "      <th>std</th>\n",
       "      <td>3.743180e+05</td>\n",
       "      <td>1.308806e+18</td>\n",
       "      <td>1.603160e+02</td>\n",
       "      <td>2.689322e+04</td>\n",
       "      <td>5.075808e+00</td>\n",
       "      <td>1.375908e+01</td>\n",
       "      <td>3.019564e+05</td>\n",
       "      <td>1.284128e+07</td>\n",
       "      <td>5.109788e+00</td>\n",
       "      <td>1.377109e+01</td>\n",
       "      <td>7.586269e-02</td>\n",
       "    </tr>\n",
       "    <tr>\n",
       "      <th>min</th>\n",
       "      <td>0.000000e+00</td>\n",
       "      <td>6.041621e+10</td>\n",
       "      <td>1.000000e+00</td>\n",
       "      <td>1.257000e+03</td>\n",
       "      <td>2.002710e+01</td>\n",
       "      <td>-1.656723e+02</td>\n",
       "      <td>2.300000e+01</td>\n",
       "      <td>1.325376e+09</td>\n",
       "      <td>1.902779e+01</td>\n",
       "      <td>-1.666712e+02</td>\n",
       "      <td>0.000000e+00</td>\n",
       "    </tr>\n",
       "    <tr>\n",
       "      <th>25%</th>\n",
       "      <td>3.241685e+05</td>\n",
       "      <td>1.800429e+14</td>\n",
       "      <td>9.650000e+00</td>\n",
       "      <td>2.623700e+04</td>\n",
       "      <td>3.462050e+01</td>\n",
       "      <td>-9.679800e+01</td>\n",
       "      <td>7.430000e+02</td>\n",
       "      <td>1.338751e+09</td>\n",
       "      <td>3.473357e+01</td>\n",
       "      <td>-9.689728e+01</td>\n",
       "      <td>0.000000e+00</td>\n",
       "    </tr>\n",
       "    <tr>\n",
       "      <th>50%</th>\n",
       "      <td>6.483370e+05</td>\n",
       "      <td>3.521417e+15</td>\n",
       "      <td>4.752000e+01</td>\n",
       "      <td>4.817400e+04</td>\n",
       "      <td>3.935430e+01</td>\n",
       "      <td>-8.747690e+01</td>\n",
       "      <td>2.456000e+03</td>\n",
       "      <td>1.349250e+09</td>\n",
       "      <td>3.936568e+01</td>\n",
       "      <td>-8.743839e+01</td>\n",
       "      <td>0.000000e+00</td>\n",
       "    </tr>\n",
       "    <tr>\n",
       "      <th>75%</th>\n",
       "      <td>9.725055e+05</td>\n",
       "      <td>4.642255e+15</td>\n",
       "      <td>8.314000e+01</td>\n",
       "      <td>7.204200e+04</td>\n",
       "      <td>4.194040e+01</td>\n",
       "      <td>-8.015800e+01</td>\n",
       "      <td>2.032800e+04</td>\n",
       "      <td>1.359385e+09</td>\n",
       "      <td>4.195716e+01</td>\n",
       "      <td>-8.023680e+01</td>\n",
       "      <td>0.000000e+00</td>\n",
       "    </tr>\n",
       "    <tr>\n",
       "      <th>max</th>\n",
       "      <td>1.296674e+06</td>\n",
       "      <td>4.992346e+18</td>\n",
       "      <td>2.894890e+04</td>\n",
       "      <td>9.978300e+04</td>\n",
       "      <td>6.669330e+01</td>\n",
       "      <td>-6.795030e+01</td>\n",
       "      <td>2.906700e+06</td>\n",
       "      <td>1.371817e+09</td>\n",
       "      <td>6.751027e+01</td>\n",
       "      <td>-6.695090e+01</td>\n",
       "      <td>1.000000e+00</td>\n",
       "    </tr>\n",
       "  </tbody>\n",
       "</table>\n",
       "</div>"
      ],
      "text/plain": [
       "         Unnamed: 0        cc_num           amt           zip           lat  \\\n",
       "count  1.296675e+06  1.296675e+06  1.296675e+06  1.296675e+06  1.296675e+06   \n",
       "mean   6.483370e+05  4.171920e+17  7.035104e+01  4.880067e+04  3.853762e+01   \n",
       "std    3.743180e+05  1.308806e+18  1.603160e+02  2.689322e+04  5.075808e+00   \n",
       "min    0.000000e+00  6.041621e+10  1.000000e+00  1.257000e+03  2.002710e+01   \n",
       "25%    3.241685e+05  1.800429e+14  9.650000e+00  2.623700e+04  3.462050e+01   \n",
       "50%    6.483370e+05  3.521417e+15  4.752000e+01  4.817400e+04  3.935430e+01   \n",
       "75%    9.725055e+05  4.642255e+15  8.314000e+01  7.204200e+04  4.194040e+01   \n",
       "max    1.296674e+06  4.992346e+18  2.894890e+04  9.978300e+04  6.669330e+01   \n",
       "\n",
       "               long      city_pop     unix_time     merch_lat    merch_long  \\\n",
       "count  1.296675e+06  1.296675e+06  1.296675e+06  1.296675e+06  1.296675e+06   \n",
       "mean  -9.022634e+01  8.882444e+04  1.349244e+09  3.853734e+01 -9.022646e+01   \n",
       "std    1.375908e+01  3.019564e+05  1.284128e+07  5.109788e+00  1.377109e+01   \n",
       "min   -1.656723e+02  2.300000e+01  1.325376e+09  1.902779e+01 -1.666712e+02   \n",
       "25%   -9.679800e+01  7.430000e+02  1.338751e+09  3.473357e+01 -9.689728e+01   \n",
       "50%   -8.747690e+01  2.456000e+03  1.349250e+09  3.936568e+01 -8.743839e+01   \n",
       "75%   -8.015800e+01  2.032800e+04  1.359385e+09  4.195716e+01 -8.023680e+01   \n",
       "max   -6.795030e+01  2.906700e+06  1.371817e+09  6.751027e+01 -6.695090e+01   \n",
       "\n",
       "           is_fraud  \n",
       "count  1.296675e+06  \n",
       "mean   5.788652e-03  \n",
       "std    7.586269e-02  \n",
       "min    0.000000e+00  \n",
       "25%    0.000000e+00  \n",
       "50%    0.000000e+00  \n",
       "75%    0.000000e+00  \n",
       "max    1.000000e+00  "
      ]
     },
     "execution_count": 9,
     "metadata": {},
     "output_type": "execute_result"
    }
   ],
   "source": [
    "df.describe()"
   ]
  },
  {
   "cell_type": "code",
   "execution_count": 10,
   "id": "continuous-guard",
   "metadata": {},
   "outputs": [],
   "source": [
    "#Generating a new feature \"hour\" from the feature \"trans_date_trans_time\". \n",
    "#As the feature \"trans_date_trans_time\" is the time of transaction therefore it has to be converted into a quatitative value.\n",
    "\n",
    "df['hour'] = df.trans_date_trans_time.dt.hour\n",
    "df.drop('trans_date_trans_time','columns',inplace = True)\n",
    "df = df[['cc_num','amt','hour','zip','lat','long','unix_time','merch_lat','merch_long','is_fraud']]"
   ]
  },
  {
   "cell_type": "code",
   "execution_count": 11,
   "id": "cordless-acting",
   "metadata": {},
   "outputs": [
    {
     "data": {
      "image/png": "[encoded data removed]",
      "text/plain": [
       "<Figure size 864x504 with 2 Axes>"
      ]
     },
     "metadata": {
      "needs_background": "light"
     },
     "output_type": "display_data"
    }
   ],
   "source": [
    "#Feature selection\n",
    "\n",
    "mat = df.corr()\n",
    "tp_crr = mat.index\n",
    "\n",
    "plt.figure(figsize=(12,7))\n",
    "g = sns.heatmap(df[tp_crr].corr(),annot=True,cmap=\"PiYG\")"
   ]
  },
  {
   "cell_type": "code",
   "execution_count": 12,
   "id": "fantastic-gather",
   "metadata": {},
   "outputs": [],
   "source": [
    "#Creating four different datasets.\n",
    "\n",
    "df1 = df.sample(frac = 0.11,random_state = 1)\n",
    "df2 = df.sample(frac = 0.12,random_state = 1)\n",
    "df3 = df.sample(frac = 0.13,random_state = 1)\n",
    "df4 = df.sample(frac = 0.14,random_state = 1)\n",
    "\n",
    "x1 = df1[['cc_num','amt','hour','zip','lat','long','unix_time']]\n",
    "y1 = df1[['is_fraud']]\n",
    "x2 = df2[['cc_num','amt','hour','zip','lat','long','unix_time']]\n",
    "y2 = df2[['is_fraud']]\n",
    "x3 = df3[['cc_num','amt','hour','zip','lat','long','unix_time']]\n",
    "y3 = df3[['is_fraud']]\n",
    "x4 = df4[['cc_num','amt','hour','zip','lat','long','unix_time']]\n",
    "y4 = df4[['is_fraud']]\n",
    "\n"
   ]
  },
  {
   "cell_type": "code",
   "execution_count": 13,
   "id": "czech-experience",
   "metadata": {},
   "outputs": [],
   "source": [
    "#Feature Scaling.\n",
    "#Function to scale the dataset.\n",
    "def scaling(x1):\n",
    "    scaler = preprocessing.StandardScaler().fit(x1)\n",
    "    x_scaled = scaler.transform(x1)\n",
    "    return  pd.DataFrame(x_scaled)"
   ]
  },
  {
   "cell_type": "code",
   "execution_count": 14,
   "id": "earlier-earth",
   "metadata": {},
   "outputs": [],
   "source": [
    "#Classifier generator functions\n",
    "\n",
    "def Naive_B(x_train,y_train):\n",
    "    X_train, X_test, y_train, y_test = train_test_split(x_train, y_train, test_size=0.33, random_state=1)\n",
    "    gnb = GaussianNB()\n",
    "    gnb.fit(X_train,y_train.values.ravel())\n",
    "    y_pred = gnb.predict(X_test)\n",
    "    print(f\"Accuracy :{accuracy_score(y_test,y_pred)}\")\n",
    "    print(f\"Precision :{precision_score(y_test,y_pred)}\")\n",
    "    print(f\"Confusion-matrix \\n {confusion_matrix(y_test,y_pred)}\")\n",
    "\n",
    "\n",
    "def Random_forest(x_train,y_train):\n",
    "    X_train, X_test, y_train, y_test = train_test_split(x_train, y_train, test_size=0.33, random_state=1)\n",
    "    cls = RandomForestClassifier()\n",
    "    cls.fit(X_train,y_train.values.ravel())\n",
    "    y_pred = pd.DataFrame(cls.predict(X_test))\n",
    "    print(f\"Accuracy :{accuracy_score(y_test,y_pred)}\")\n",
    "    print(f\"Precision :{precision_score(y_test,y_pred)}\")\n",
    "    print(f\"Confusion-matrix \\n {confusion_matrix(y_test,y_pred)}\")\n",
    "    \n",
    "    \n",
    "\n",
    "    \n",
    "def Logistic_R(x_train,y_train):\n",
    "    X_train, X_test, y_train, y_test = train_test_split(x_train, y_train, test_size=0.33, random_state=1)\n",
    "    model4  = LogisticRegression()\n",
    "    model4.fit(X_train,y_train.values.ravel())\n",
    "    y_pred = pd.DataFrame(model4.predict(X_test))\n",
    "    print(f\"Accuracy :{accuracy_score(y_test,y_pred)}\")\n",
    "    print(f\"Precision :{precision_score(y_test,y_pred)}\")\n",
    "    print(f\"Confusion-matrix \\n {confusion_matrix(y_test,y_pred)}\")\n",
    "      "
   ]
  },
  {
   "cell_type": "code",
   "execution_count": 15,
   "id": "empirical-office",
   "metadata": {},
   "outputs": [],
   "source": [
    "x1 = scaling(x1)\n",
    "x2 = scaling(x2)\n",
    "x3 = scaling(x3)\n",
    "x4 = scaling(x4)"
   ]
  },
  {
   "cell_type": "code",
   "execution_count": 16,
   "id": "olympic-international",
   "metadata": {
    "scrolled": true
   },
   "outputs": [
    {
     "name": "stdout",
     "output_type": "stream",
     "text": [
      "Logistic Regression Classifier results....................\n",
      "D1 dataset result:\n",
      "Accuracy :0.9937539834289356\n",
      "Precision :0.0\n",
      "Confusion-matrix \n",
      " [[46776    30]\n",
      " [  264     0]]\n",
      "\n",
      "\n",
      "D2 dataset result:\n",
      "Accuracy :0.9938265594266685\n",
      "Precision :0.0\n",
      "Confusion-matrix \n",
      " [[51032    32]\n",
      " [  285     0]]\n",
      "\n",
      "\n",
      "D3 dataset result:\n",
      "Accuracy :0.993816063852736\n",
      "Precision :0.0\n",
      "Confusion-matrix \n",
      " [[55284    26]\n",
      " [  318     0]]\n",
      "\n",
      "\n",
      "D4 dataset result:\n",
      "Accuracy :0.9935399869798187\n",
      "Precision :0.0\n",
      "Confusion-matrix \n",
      " [[59520    27]\n",
      " [  360     0]]\n",
      "\n",
      "\n"
     ]
    }
   ],
   "source": [
    "#Calling Logistic_R function to generate a Logistic regression model with respective datasets and printing its measures such as\n",
    "#accuracy, precision ,confusion matrix.\n",
    "\n",
    "log = []\n",
    "print(\"Logistic Regression Classifier results....................\")\n",
    "for i in range(1,5):\n",
    "    if(i==1):\n",
    "        print(\"D1 dataset result:\")\n",
    "        Logistic_R(x1,y1)\n",
    "    if(i==2):\n",
    "        print(\"D2 dataset result:\")\n",
    "        Logistic_R(x2,y2)\n",
    "    if(i==3):\n",
    "        print(\"D3 dataset result:\")\n",
    "        Logistic_R(x3,y3)\n",
    "    if(i==4):\n",
    "        print(\"D4 dataset result:\")\n",
    "        Logistic_R(x4,y4)\n",
    "                \n",
    "    print(\"\\n\")    \n",
    "    log.append(1.0)\n",
    "                 "
   ]
  },
  {
   "cell_type": "code",
   "execution_count": 17,
   "id": "incorporate-cruise",
   "metadata": {
    "scrolled": true
   },
   "outputs": [
    {
     "name": "stdout",
     "output_type": "stream",
     "text": [
      "Naive Bayes Classifier results....................\n",
      "Accuracy :0.9910133843212237\n",
      "Precision :0.3056234718826406\n",
      "Confusion-matrix \n",
      " [[46522   284]\n",
      " [  139   125]]\n",
      "\n",
      "\n",
      "Accuracy :0.990885898459561\n",
      "Precision :0.31211498973305957\n",
      "Confusion-matrix \n",
      " [[50729   335]\n",
      " [  133   152]]\n",
      "\n",
      "\n",
      "Accuracy :0.991065650391889\n",
      "Precision :0.3191919191919192\n",
      "Confusion-matrix \n",
      " [[54973   337]\n",
      " [  160   158]]\n",
      "\n",
      "\n",
      "Accuracy :0.9906855626220642\n",
      "Precision :0.32194244604316546\n",
      "Confusion-matrix \n",
      " [[59170   377]\n",
      " [  181   179]]\n",
      "\n",
      "\n"
     ]
    }
   ],
   "source": [
    "#Calling Naive_B function to generate a Naive bayes model with respective datasets and printing its measures such as\n",
    "#accuracy, precision ,confusion matrix.\n",
    "\n",
    "print(\"Naive Bayes Classifier results....................\")\n",
    "for i in range(1,5):\n",
    "    if(i==1):\n",
    "        Naive_B(x1,y1)\n",
    "    if(i==2):\n",
    "        Naive_B(x2,y2)\n",
    "    if(i==3):\n",
    "        Naive_B(x3,y3)\n",
    "    if(i==4):\n",
    "        Naive_B(x4,y4)\n",
    "                \n",
    "    print(\"\\n\")\n",
    "        \n",
    "naive = []\n",
    "naive.append(284/(284+125))\n",
    "naive.append(335/(335+152))\n",
    "naive.append(337/(337+158))\n",
    "naive.append(337/(337+179))        "
   ]
  },
  {
   "cell_type": "code",
   "execution_count": 18,
   "id": "aerial-rugby",
   "metadata": {
    "scrolled": true
   },
   "outputs": [
    {
     "name": "stdout",
     "output_type": "stream",
     "text": [
      "Random Forest Classifier results....................\n",
      "Accuracy :0.996218398130444\n",
      "Precision :0.8467741935483871\n",
      "Confusion-matrix \n",
      " [[46787    19]\n",
      " [  159   105]]\n",
      "\n",
      "\n",
      "Accuracy :0.9963582542990126\n",
      "Precision :0.8141025641025641\n",
      "Confusion-matrix \n",
      " [[51035    29]\n",
      " [  158   127]]\n",
      "\n",
      "\n",
      "Accuracy :0.9960271805565543\n",
      "Precision :0.8391608391608392\n",
      "Confusion-matrix \n",
      " [[55287    23]\n",
      " [  198   120]]\n",
      "\n",
      "\n",
      "Accuracy :0.9957600948136278\n",
      "Precision :0.8045977011494253\n",
      "Confusion-matrix \n",
      " [[59513    34]\n",
      " [  220   140]]\n",
      "\n",
      "\n"
     ]
    }
   ],
   "source": [
    "#Calling Random Forest function to generate a  Random Forest Classifier with respective datasets and printing its measures such as\n",
    "#accuracy, precision ,confusion matrix.\n",
    "\n",
    "print(\"Random Forest Classifier results....................\")\n",
    "for i in range(1,5):\n",
    "    if(i==1):\n",
    "        Random_forest(x1,y1)\n",
    "    if(i==2):\n",
    "        Random_forest(x2,y2)\n",
    "    if(i==3):\n",
    "        Random_forest(x3,y3)\n",
    "    if(i==4):\n",
    "        Random_forest(x4,y4)\n",
    "                \n",
    "    print(\"\\n\")\n",
    "        \n",
    "rdf = []\n",
    "rdf.append(23/(23+101))\n",
    "rdf.append(29/(29+120))\n",
    "rdf.append(21/(21+119))\n",
    "rdf.append(38/(38+144))\n"
   ]
  },
  {
   "cell_type": "code",
   "execution_count": 19,
   "id": "blessed-ranch",
   "metadata": {},
   "outputs": [],
   "source": [
    "d = ['df1','df2','df3','df4']"
   ]
  },
  {
   "cell_type": "code",
   "execution_count": 20,
   "id": "knowing-climb",
   "metadata": {},
   "outputs": [
    {
     "data": {
      "text/plain": [
       "Text(0, 0.5, 'False positive rate')"
      ]
     },
     "execution_count": 20,
     "metadata": {},
     "output_type": "execute_result"
    },
    {
     "data": {
      "image/png": "[encoded data removed]",
      "text/plain": [
       "<Figure size 864x432 with 1 Axes>"
      ]
     },
     "metadata": {
      "needs_background": "light"
     },
     "output_type": "display_data"
    }
   ],
   "source": [
    "plt.figure(figsize = (12,6))\n",
    "plt.scatter(x=d,y=log)\n",
    "plt.scatter(x=d,y=rdf)\n",
    "plt.scatter(x=d,y=naive)\n",
    "plt.plot(d,log,label = \"LR\")\n",
    "plt.plot(d,rdf,label = \"RDF\")\n",
    "plt.plot(d,naive,label = \"NB\")\n",
    "plt.legend()\n",
    "\n",
    "plt.xlabel(\"Datasets\")\n",
    "plt.ylabel(\"False positive rate\")"
   ]
  },
  {
   "cell_type": "markdown",
   "id": "prescription-theater",
   "metadata": {},
   "source": [
    "Conclusion\n",
    "\n",
    " A real-life dataset \n",
    "on credit card transactions is used for the evaluation. \n",
    "And it was founded that the Random-forest classifier \n",
    "works well with this kind of data since it is independent \n",
    "of attribute values.\n",
    "The second feature of this technique in credit card fraud \n",
    "detection is its ability to handle class imbalance. More \n",
    "over it was found that it takes less time because fraud \n",
    "detection domain time is known which is one of the \n",
    "important parameter."
   ]
  }
 ],
 "metadata": {
  "kernelspec": {
   "display_name": "Python 3",
   "language": "python",
   "name": "python3"
  },
  "language_info": {
   "codemirror_mode": {
    "name": "ipython",
    "version": 3
   },
   "file_extension": ".py",
   "mimetype": "text/x-python",
   "name": "python",
   "nbconvert_exporter": "python",
   "pygments_lexer": "ipython3",
   "version": "3.8.3"
  }
 },
 "nbformat": 4,
 "nbformat_minor": 5
}
